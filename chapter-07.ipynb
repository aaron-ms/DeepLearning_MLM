{
 "cells": [
  {
   "cell_type": "markdown",
   "source": [
    "# Develop Your First Neural Network With Keras"
   ],
   "metadata": {
    "collapsed": false
   },
   "id": "b36bc41720898e31"
  },
  {
   "cell_type": "markdown",
   "source": [
    "# Stages: \n",
    "1. Load Data.\n",
    "2. Define Model.\n",
    "3. Compile Model.\n",
    "4. Fit Model.\n",
    "5. Evaluate Model."
   ],
   "metadata": {
    "collapsed": false
   },
   "id": "b6c85e81d5ec1885"
  },
  {
   "cell_type": "markdown",
   "source": [
    "# Task\n",
    "**we have a dataset of patient medical record data for Pima Indians and we need to find out whether they had an onset of diabetes within five years. It is a binary classification problem (onset of diabetes as 1\n",
    "or not as 0).**"
   ],
   "metadata": {
    "collapsed": false
   },
   "id": "5d130c3007dcedb6"
  },
  {
   "cell_type": "markdown",
   "source": [
    "## Dataset Contain:\n",
    "1. Number of times pregnant.\n",
    "2. Plasma glucose concentration a 2 hours in an oral glucose tolerance test.\n",
    "3. Diastolic blood pressure (mm Hg).\n",
    "4. Triceps skin fold thickness (mm).\n",
    "5. 2-Hour serum insulin (mu U/ml).\n",
    "6. Body mass index.\n",
    "7. Diabetes pedigree function.\n",
    "8. Age (years).\n",
    "9. Class, onset of diabetes within five years."
   ],
   "metadata": {
    "collapsed": false
   },
   "id": "74999516453db0e5"
  },
  {
   "cell_type": "code",
   "execution_count": 1,
   "outputs": [],
   "source": [
    "from numpy import loadtxt\n",
    "from tensorflow.keras.models import Sequential\n",
    "from tensorflow.keras.layers import Dense"
   ],
   "metadata": {
    "collapsed": false,
    "ExecuteTime": {
     "end_time": "2023-09-13T13:45:22.874589500Z",
     "start_time": "2023-09-13T13:45:10.507454Z"
    }
   },
   "id": "a3540fb42265950d"
  },
  {
   "cell_type": "code",
   "execution_count": 2,
   "outputs": [],
   "source": [
    "# load the dataset\n",
    "dataset = loadtxt('datasets/pima-indians-diabetes.csv', delimiter=',')"
   ],
   "metadata": {
    "collapsed": false,
    "ExecuteTime": {
     "end_time": "2023-09-13T13:45:49.019658300Z",
     "start_time": "2023-09-13T13:45:48.961704200Z"
    }
   },
   "id": "2e87ac870ce03230"
  },
  {
   "cell_type": "code",
   "execution_count": 3,
   "outputs": [],
   "source": [
    "# split into input (X) and output (y) variables\n",
    "X = dataset[:, 0:8]\n",
    "y = dataset[:, 8]"
   ],
   "metadata": {
    "collapsed": false,
    "ExecuteTime": {
     "end_time": "2023-09-13T13:46:44.797313800Z",
     "start_time": "2023-09-13T13:46:44.769392700Z"
    }
   },
   "id": "dbe4680d7f6eee97"
  },
  {
   "cell_type": "code",
   "execution_count": 4,
   "outputs": [],
   "source": [
    "# Define the keras Model\n",
    "model = Sequential()\n",
    "model.add(Dense(12, input_shape=(8,), activation='relu'))\n",
    "model.add(Dense(8, activation='relu'))\n",
    "model.add(Dense(1, activation='sigmoid'))"
   ],
   "metadata": {
    "collapsed": false,
    "ExecuteTime": {
     "end_time": "2023-09-13T13:48:55.787380200Z",
     "start_time": "2023-09-13T13:48:55.463076200Z"
    }
   },
   "id": "6fd1fe6e683c4686"
  },
  {
   "cell_type": "code",
   "execution_count": 5,
   "outputs": [],
   "source": [
    "# Compile the Model\n",
    "model.compile(loss='binary_crossentropy', optimizer='adam', metrics=['accuracy'])"
   ],
   "metadata": {
    "collapsed": false,
    "ExecuteTime": {
     "end_time": "2023-09-13T13:50:07.575338100Z",
     "start_time": "2023-09-13T13:50:07.537430600Z"
    }
   },
   "id": "fbb9f5046ce0cfb3"
  },
  {
   "cell_type": "code",
   "execution_count": 6,
   "outputs": [
    {
     "data": {
      "text/plain": "<keras.src.callbacks.History at 0x22a5e208f90>"
     },
     "execution_count": 6,
     "metadata": {},
     "output_type": "execute_result"
    }
   ],
   "source": [
    "# Fit the keras model on the dataset\n",
    "model.fit(X, y, epochs=150, batch_size=10, verbose=0)"
   ],
   "metadata": {
    "collapsed": false,
    "ExecuteTime": {
     "end_time": "2023-09-13T13:51:22.062101100Z",
     "start_time": "2023-09-13T13:51:02.764484900Z"
    }
   },
   "id": "7649d5f02ddff4bc"
  },
  {
   "cell_type": "code",
   "execution_count": 7,
   "outputs": [
    {
     "name": "stdout",
     "output_type": "stream",
     "text": [
      "24/24 [==============================] - 0s 3ms/step\n"
     ]
    }
   ],
   "source": [
    "# Make class predictions with the model\n",
    "predictions = (model.predict(X) > 0.5).astype(int)"
   ],
   "metadata": {
    "collapsed": false,
    "ExecuteTime": {
     "end_time": "2023-09-13T13:52:08.456439100Z",
     "start_time": "2023-09-13T13:52:08.179369500Z"
    }
   },
   "id": "a943af1410eb78e7"
  },
  {
   "cell_type": "code",
   "execution_count": 8,
   "outputs": [
    {
     "name": "stdout",
     "output_type": "stream",
     "text": [
      "[6.0, 148.0, 72.0, 35.0, 0.0, 33.6, 0.627, 50.0] => 1 (expected 1)\n",
      "[1.0, 85.0, 66.0, 29.0, 0.0, 26.6, 0.351, 31.0] => 0 (expected 0)\n",
      "[8.0, 183.0, 64.0, 0.0, 0.0, 23.3, 0.672, 32.0] => 1 (expected 1)\n",
      "[1.0, 89.0, 66.0, 23.0, 94.0, 28.1, 0.167, 21.0] => 0 (expected 0)\n",
      "[0.0, 137.0, 40.0, 35.0, 168.0, 43.1, 2.288, 33.0] => 1 (expected 1)\n"
     ]
    }
   ],
   "source": [
    "# summarize the first 5 cases\n",
    "for i in range(5):\n",
    "    print('%s => %d (expected %d)' % (X[i].tolist(), predictions[i], y[i]))"
   ],
   "metadata": {
    "collapsed": false,
    "ExecuteTime": {
     "end_time": "2023-09-13T13:52:19.992163200Z",
     "start_time": "2023-09-13T13:52:19.953270300Z"
    }
   },
   "id": "875cebd1afccfb96"
  },
  {
   "cell_type": "code",
   "execution_count": null,
   "outputs": [],
   "source": [],
   "metadata": {
    "collapsed": false
   },
   "id": "5579adc42cafd602"
  }
 ],
 "metadata": {
  "kernelspec": {
   "display_name": "Python 3",
   "language": "python",
   "name": "python3"
  },
  "language_info": {
   "codemirror_mode": {
    "name": "ipython",
    "version": 2
   },
   "file_extension": ".py",
   "mimetype": "text/x-python",
   "name": "python",
   "nbconvert_exporter": "python",
   "pygments_lexer": "ipython2",
   "version": "2.7.6"
  }
 },
 "nbformat": 4,
 "nbformat_minor": 5
}

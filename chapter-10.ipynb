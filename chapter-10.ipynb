{
 "cells": [
  {
   "cell_type": "markdown",
   "source": [
    "# Multi-Class Classification\n",
    "This is a multi-class classification problem, meaning that there are more than two classes to be predicted.\n",
    "In fact, there are three flower species."
   ],
   "metadata": {
    "collapsed": false
   },
   "id": "5180f7fb04ede543"
  },
  {
   "cell_type": "code",
   "execution_count": 3,
   "outputs": [],
   "source": [
    "import pandas as pd \n",
    "from tensorflow.keras.models import Sequential\n",
    "from tensorflow.keras.layers import Input\n",
    "from tensorflow.keras.layers import Dense\n",
    "from scikeras.wrappers import KerasClassifier\n",
    "from tensorflow.keras.utils import to_categorical\n",
    "from sklearn.model_selection import cross_val_score\n",
    "from sklearn.model_selection import KFold\n",
    "from sklearn.preprocessing import LabelEncoder\n",
    "from sklearn.pipeline import Pipeline"
   ],
   "metadata": {
    "collapsed": false,
    "ExecuteTime": {
     "end_time": "2023-09-14T06:07:11.855990Z",
     "start_time": "2023-09-14T06:07:11.787246800Z"
    }
   },
   "id": "e7ba391fbe135630"
  },
  {
   "cell_type": "code",
   "execution_count": 5,
   "outputs": [],
   "source": [
    "# load dataset\n",
    "dataframe = pd.read_csv(\"datasets/iris.csv\", header=None)\n",
    "dataset = dataframe.values\n",
    "X = dataset[:,0:4].astype(float)\n",
    "Y = dataset[:,4]"
   ],
   "metadata": {
    "collapsed": false,
    "ExecuteTime": {
     "end_time": "2023-09-14T06:07:34.331703600Z",
     "start_time": "2023-09-14T06:07:34.300698600Z"
    }
   },
   "id": "2f6f725afac166a5"
  },
  {
   "cell_type": "markdown",
   "source": [
    "The output variable contains three different string values.\n",
    "\n",
    "When modeling multi-class classification problems using neural networks, it is good practice to reshape\n",
    "the output attribute from a vector that contains values for each class value to a matrix with a Boolean for\n",
    "each class value and whether a given instance has that class value or not.\n",
    "\n",
    "This is called one-hot encoding or creating dummy variables from a categorical variable.\n",
    "\n",
    "You can first encode the strings consistently to integers using the scikit-learn class LabelEncoder. Then\n",
    "convert the vector of integers to a one-hot encoding using the Keras function to_categorical()."
   ],
   "metadata": {
    "collapsed": false
   },
   "id": "97510eba312d161f"
  },
  {
   "cell_type": "code",
   "execution_count": 6,
   "outputs": [],
   "source": [
    "# encode class values as integers\n",
    "encoder = LabelEncoder()\n",
    "encoder.fit(Y)\n",
    "encoded_Y = encoder.transform(Y)\n",
    "# convert integers to dummy variables (i.e. one hot encoded)\n",
    "dummy_y = to_categorical(encoded_Y)"
   ],
   "metadata": {
    "collapsed": false,
    "ExecuteTime": {
     "end_time": "2023-09-14T06:07:46.540891700Z",
     "start_time": "2023-09-14T06:07:46.524758400Z"
    }
   },
   "id": "de8e7353482f8593"
  },
  {
   "cell_type": "code",
   "execution_count": 7,
   "outputs": [],
   "source": [
    "# define baseline model\n",
    "def baseline_model():\n",
    "    # create model\n",
    "    model = Sequential()\n",
    "    model.add(Input(shape=(4,)))\n",
    "    model.add(Dense(8, activation='relu'))\n",
    "    model.add(Dense(3, activation='softmax'))\n",
    "    \n",
    "    # Compile Model\n",
    "    model.compile(loss='categorical_crossentropy', optimizer='adam', metrics=['accuracy'])\n",
    "    \n",
    "    return model"
   ],
   "metadata": {
    "collapsed": false,
    "ExecuteTime": {
     "end_time": "2023-09-14T06:15:27.743451400Z",
     "start_time": "2023-09-14T06:15:27.699569800Z"
    }
   },
   "id": "8377cd952da4e260"
  },
  {
   "cell_type": "code",
   "execution_count": 9,
   "outputs": [
    {
     "name": "stdout",
     "output_type": "stream",
     "text": [
      "Baseline: 97.33% (3.27%)\n"
     ]
    }
   ],
   "source": [
    "estimator = KerasClassifier(model=baseline_model, epochs=200, batch_size=5, verbose=0)\n",
    "kfold = KFold(n_splits=10, shuffle=True)\n",
    "results = cross_val_score(estimator, X, dummy_y, cv=kfold)\n",
    "print(\"Baseline: %.2f%% (%.2f%%)\" % (results.mean()*100, results.std()*100))"
   ],
   "metadata": {
    "collapsed": false,
    "ExecuteTime": {
     "end_time": "2023-09-14T06:18:27.991255500Z",
     "start_time": "2023-09-14T06:17:09.433736400Z"
    }
   },
   "id": "bec296e7b7ab1521"
  },
  {
   "cell_type": "code",
   "execution_count": null,
   "outputs": [],
   "source": [],
   "metadata": {
    "collapsed": false
   },
   "id": "38b479383274a28e"
  }
 ],
 "metadata": {
  "kernelspec": {
   "display_name": "Python 3",
   "language": "python",
   "name": "python3"
  },
  "language_info": {
   "codemirror_mode": {
    "name": "ipython",
    "version": 2
   },
   "file_extension": ".py",
   "mimetype": "text/x-python",
   "name": "python",
   "nbconvert_exporter": "python",
   "pygments_lexer": "ipython2",
   "version": "2.7.6"
  }
 },
 "nbformat": 4,
 "nbformat_minor": 5
}

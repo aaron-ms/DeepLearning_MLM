{
 "cells": [
  {
   "cell_type": "markdown",
   "source": [
    "# Multi-Class Classification\n",
    "This is a multi-class classification problem, meaning that there are more than two classes to be predicted.\n",
    "In fact, there are three flower species."
   ],
   "metadata": {
    "collapsed": false
   },
   "id": "5180f7fb04ede543"
  },
  {
   "cell_type": "code",
   "execution_count": null,
   "outputs": [],
   "source": [],
   "metadata": {
    "collapsed": false
   },
   "id": "e7ba391fbe135630"
  }
 ],
 "metadata": {
  "kernelspec": {
   "display_name": "Python 3",
   "language": "python",
   "name": "python3"
  },
  "language_info": {
   "codemirror_mode": {
    "name": "ipython",
    "version": 2
   },
   "file_extension": ".py",
   "mimetype": "text/x-python",
   "name": "python",
   "nbconvert_exporter": "python",
   "pygments_lexer": "ipython2",
   "version": "2.7.6"
  }
 },
 "nbformat": 4,
 "nbformat_minor": 5
}
